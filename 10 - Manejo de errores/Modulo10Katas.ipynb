{
 "cells": [
  {
   "cell_type": "markdown",
   "metadata": {},
   "source": [
    "# Manejo de errores"
   ]
  },
  {
   "cell_type": "code",
   "execution_count": 4,
   "metadata": {},
   "outputs": [
    {
     "name": "stdout",
     "output_type": "stream",
     "text": [
      "No se pudo encontrar el archivo, compruebe la ruta o si este existe\n"
     ]
    }
   ],
   "source": [
    "# Usando el try y except para controlar errores\n",
    "try:\n",
    "    open(\"/path/to/mars.jpg\");\n",
    "except FileNotFoundError:\n",
    "    print(\"No se pudo encontrar el archivo, compruebe la ruta o si este existe\");"
   ]
  }
 ],
 "metadata": {
  "interpreter": {
   "hash": "961a39ac46c2445eb9dead48ee296d68c1b120cbfe9873ef543a6f48a5a42301"
  },
  "kernelspec": {
   "display_name": "Python 3.10.2 64-bit",
   "language": "python",
   "name": "python3"
  },
  "language_info": {
   "codemirror_mode": {
    "name": "ipython",
    "version": 3
   },
   "file_extension": ".py",
   "mimetype": "text/x-python",
   "name": "python",
   "nbconvert_exporter": "python",
   "pygments_lexer": "ipython3",
   "version": "3.10.2"
  },
  "orig_nbformat": 4
 },
 "nbformat": 4,
 "nbformat_minor": 2
}
