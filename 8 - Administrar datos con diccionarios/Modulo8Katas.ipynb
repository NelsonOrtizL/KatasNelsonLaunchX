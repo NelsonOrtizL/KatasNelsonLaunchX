{
 "cells": [
  {
   "cell_type": "markdown",
   "metadata": {},
   "source": [
    "# Ejercicio 1: Creación de diccionarios de Python\n",
    "Ejercicio: Crear y modificar un diccionario de Python"
   ]
  },
  {
   "cell_type": "markdown",
   "metadata": {},
   "source": [
    "Crear un diccionario llamado planeta para guardar informacion de este."
   ]
  },
  {
   "cell_type": "code",
   "execution_count": 1,
   "metadata": {},
   "outputs": [],
   "source": [
    "planeta = {\n",
    "    'nombre': 'Tierra',\n",
    "    'lunas': 1\n",
    "}"
   ]
  },
  {
   "cell_type": "markdown",
   "metadata": {},
   "source": [
    "Comprobar que se creo el diccionario y mostrar los datos"
   ]
  },
  {
   "cell_type": "code",
   "execution_count": 2,
   "metadata": {},
   "outputs": [
    {
     "name": "stdout",
     "output_type": "stream",
     "text": [
      "Tierra\n",
      "1\n"
     ]
    }
   ],
   "source": [
    "print(planeta.get('nombre')); # Obtener valores con el metodo Get\n",
    "print(planeta['lunas']); # Obtner valores con el uso de los corchetes"
   ]
  },
  {
   "cell_type": "markdown",
   "metadata": {},
   "source": [
    "Agregar nuevos valores al diccionario usando el metodo: update y entre corchetes"
   ]
  },
  {
   "cell_type": "code",
   "execution_count": null,
   "metadata": {},
   "outputs": [],
   "source": [
    "# Usando el metodo de update\n",
    "planeta.update( circuferenciaKM = {'polar' : 6752, 'equatorial': 6792});\n",
    "print(planeta);\n",
    "\n",
    "planeta['porcentaje agua'] = 97.84;\n",
    "print(planeta);\n",
    "\n",
    "planeta['temperatura (C)'] = {\n",
    "    'minima': -90,\n",
    "    'maxima': 50\n",
    "}\n",
    "print(planeta);"
   ]
  },
  {
   "cell_type": "markdown",
   "metadata": {},
   "source": [
    "Imprimir el nombre del planeta con la circuferencia polar"
   ]
  },
  {
   "cell_type": "code",
   "execution_count": 23,
   "metadata": {},
   "outputs": [
    {
     "name": "stdout",
     "output_type": "stream",
     "text": [
      "-------------------------\n",
      "El nombre del planeta es Tierra y la circuferencia es: 6752\n",
      "-------------------------\n"
     ]
    }
   ],
   "source": [
    "print(\"-\"*25);\n",
    "print(f\"El nombre del planeta es {planeta.get('nombre')} y la circuferencia es: {planeta['circuferenciaKM']['polar']}\")\n",
    "print(\"-\"*25);"
   ]
  },
  {
   "cell_type": "markdown",
   "metadata": {},
   "source": [
    "# Ejercicio 2: Programación dinámica con diccionarios\n",
    "Ejercicio: Cálculo de valores"
   ]
  },
  {
   "cell_type": "code",
   "execution_count": null,
   "metadata": {},
   "outputs": [],
   "source": [
    "# Planetas y lunas\n",
    "planet_moons = {\n",
    "    'mercury': 0,\n",
    "    'venus': 0,\n",
    "    'earth': 1,\n",
    "    'mars': 2,\n",
    "    'jupiter': 79,\n",
    "    'saturn': 82,\n",
    "    'uranus': 27,\n",
    "    'neptune': 14,\n",
    "    'pluto': 5,\n",
    "    'haumea': 2,\n",
    "    'makemake': 1,\n",
    "    'eris': 1\n",
    "}"
   ]
  },
  {
   "cell_type": "markdown",
   "metadata": {},
   "source": [
    "Determinar el numero de planetas y el lunas"
   ]
  },
  {
   "cell_type": "code",
   "execution_count": 28,
   "metadata": {},
   "outputs": [
    {
     "name": "stdout",
     "output_type": "stream",
     "text": [
      "dict_values([0, 0, 1, 2, 79, 82, 27, 14, 5, 2, 1, 1])\n",
      "12\n"
     ]
    }
   ],
   "source": [
    "moons = planet_moons.values();\n",
    "print(moons); # Las lunas\n",
    "\n",
    "planets = len(moons); # Numero de planetas\n",
    "print(planets);"
   ]
  },
  {
   "cell_type": "markdown",
   "metadata": {},
   "source": [
    "Contar el numero de lunas"
   ]
  },
  {
   "cell_type": "code",
   "execution_count": 31,
   "metadata": {},
   "outputs": [
    {
     "name": "stdout",
     "output_type": "stream",
     "text": [
      "El total de lunas es 214 y el promedio es de 17.833333333333332\n"
     ]
    }
   ],
   "source": [
    "total_moons = 0;\n",
    "\n",
    "for moon in moons:\n",
    "    total_moons = moon + total_moons;\n",
    "\n",
    "promedio = total_moons / planets;\n",
    "\n",
    "print(f\"El total de lunas es {total_moons} y el promedio es de {promedio}\");"
   ]
  }
 ],
 "metadata": {
  "interpreter": {
   "hash": "961a39ac46c2445eb9dead48ee296d68c1b120cbfe9873ef543a6f48a5a42301"
  },
  "kernelspec": {
   "display_name": "Python 3.10.2 64-bit",
   "language": "python",
   "name": "python3"
  },
  "language_info": {
   "codemirror_mode": {
    "name": "ipython",
    "version": 3
   },
   "file_extension": ".py",
   "mimetype": "text/x-python",
   "name": "python",
   "nbconvert_exporter": "python",
   "pygments_lexer": "ipython3",
   "version": "3.7.9"
  },
  "orig_nbformat": 4
 },
 "nbformat": 4,
 "nbformat_minor": 2
}
