{
 "cells": [
  {
   "cell_type": "markdown",
   "metadata": {},
   "source": [
    "# Ejercicio: Uso de funciones en Python\n",
    "Ejercicio 1: Trabajar con argumentos en funciones"
   ]
  },
  {
   "cell_type": "markdown",
   "metadata": {},
   "source": [
    "Creacion de una funcion con 3 parametros y que retorne un valor"
   ]
  },
  {
   "cell_type": "code",
   "execution_count": 1,
   "metadata": {},
   "outputs": [],
   "source": [
    "# Función para leer 3 tanques de combustible y muestre el promedio\n",
    "def informe_combustible(tanque1,tanque2,tanque3):\n",
    "    total_combustible = (tanque1 + tanque2 + tanque3) / 3;\n",
    "    return f\"\"\"\n",
    "    El promedio es: {total_combustible} \n",
    "    El tanque 1 tiene: {tanque1} \n",
    "    El tanque 2 tiene: {tanque2} \n",
    "    El tanque 3 tiene: {tanque3} \n",
    "    \"\"\";"
   ]
  },
  {
   "cell_type": "markdown",
   "metadata": {},
   "source": [
    "Comproamos el estado de los tanques y el funcionamiento de la funcion"
   ]
  },
  {
   "cell_type": "code",
   "execution_count": 2,
   "metadata": {},
   "outputs": [
    {
     "name": "stdout",
     "output_type": "stream",
     "text": [
      "El promedio de los tanques es \n",
      "    El promedio es: 0.0 \n",
      "    El tanque 1 tiene: 0 \n",
      "    El tanque 2 tiene: 0 \n",
      "    El tanque 3 tiene: 0 \n",
      "    \n"
     ]
    }
   ],
   "source": [
    "# Llamar a la funcion\n",
    "print(f\"El promedio de los tanques es {informe_combustible(0,0,0)}\");"
   ]
  },
  {
   "cell_type": "markdown",
   "metadata": {},
   "source": [
    "Crear una funcion para calcular el promedio"
   ]
  },
  {
   "cell_type": "code",
   "execution_count": 12,
   "metadata": {},
   "outputs": [
    {
     "name": "stdout",
     "output_type": "stream",
     "text": [
      "10.0\n"
     ]
    }
   ],
   "source": [
    "# Funcion para calcular el promedio de una LISTA DE NUMEROS\n",
    "def promedio(lista):\n",
    "    total = sum(lista); #Obtener la suma total de todos los elementos\n",
    "    elementos = len(lista) #Obtener el numero de elementos\n",
    "    return total / elementos;\n",
    "\n",
    "print(promedio([10,10,10]));"
   ]
  },
  {
   "cell_type": "markdown",
   "metadata": {},
   "source": [
    "Integrar la funcion promedio a la funcion que crea el informe de combustiblee"
   ]
  },
  {
   "cell_type": "code",
   "execution_count": null,
   "metadata": {},
   "outputs": [],
   "source": [
    "# Funcion para el informe del combustible\n",
    "def informe_combustible(tanque1,tanque2,tanque3):\n",
    "    total_combustible = promedio([tanque1,tanque2,tanque3]);\n",
    "    return f\"\"\"\n",
    "    El promedio es: {total_combustible} \n",
    "    El tanque 1 tiene: {tanque1} \n",
    "    El tanque 2 tiene: {tanque2} \n",
    "    El tanque 3 tiene: {tanque3} \n",
    "    \"\"\";\n",
    "\n",
    "# Probando la nuva funcion\n",
    "print(informe_combustible(10,10,10));"
   ]
  },
  {
   "cell_type": "markdown",
   "metadata": {},
   "source": [
    "# Ejercicio 2: Trabajo con argumentos de palabra clave\n",
    "Ejercicio : Trabajar con argumentos de palabras clave en funciones"
   ]
  },
  {
   "cell_type": "markdown",
   "metadata": {},
   "source": [
    "Crear una funcion que muestre el informe de la mision"
   ]
  },
  {
   "cell_type": "code",
   "execution_count": null,
   "metadata": {},
   "outputs": [],
   "source": [
    "# Función con un informe preciso de la misión. Considera hora de prelanzamiento, tiempo de vuelo, destino, tanque externo y tanque interno\n",
    "\n",
    "def informe_mision(prelanzamiento, tiempo_vuelo, destino, tanque_externo, tanque_interno):\n",
    "    return f\"\"\"\n",
    "    La mision es {destino}\n",
    "    Total tiempo de viaje: {prelanzamiento + tiempo_vuelo} minutos\n",
    "    Total de combustible de la nave: {tanque_externo + tanque_interno} galones\n",
    "    \"\"\"\n",
    "\n",
    "print(informe_mision(40, 50, \"La Luna\", 500000, 500000))"
   ]
  },
  {
   "cell_type": "markdown",
   "metadata": {},
   "source": [
    "Escribe tu nueva función de reporte considerando cualquier número de pasos basados en el tiempo y cualquier número de tanques."
   ]
  },
  {
   "cell_type": "code",
   "execution_count": null,
   "metadata": {},
   "outputs": [],
   "source": [
    "# Escribe tu nueva función de reporte considerando lo anterior\n",
    "\n",
    "def informe_mision(destino, *minutos, **total_combustible):\n",
    "    return f\"\"\"\n",
    "    La mision es {destino}\n",
    "    Total tiempo de viaje: {sum(minutos)} minutes\n",
    "    Total de combustible de la nave: {sum(total_combustible.values())}\n",
    "    \"\"\"\n",
    "\n",
    "print(informe_mision(\"La luna\", 10, 30, 50, main=500000, external=500000))"
   ]
  },
  {
   "cell_type": "markdown",
   "metadata": {},
   "source": [
    "Actualiza la función para usar el nombre de cada tanque en el informe"
   ]
  },
  {
   "cell_type": "code",
   "execution_count": 23,
   "metadata": {},
   "outputs": [
    {
     "name": "stdout",
     "output_type": "stream",
     "text": [
      "\n",
      "    La mision es La luna\n",
      "    Total tiempo de viaje: 90 minutos\n",
      "    Total de combustiblee de la nave: 1000000\n",
      "    Tanque interno --> 500000 galones\n",
      "Tanque externo --> 500000 galones\n",
      "\n"
     ]
    }
   ],
   "source": [
    "# Escribe tu nueva función que muestre el nombr de cada tanque  \n",
    "def informe_mision(destino, *minutos, **total_combustible):\n",
    "    informe = f\"\"\"\n",
    "    La mision es {destino}\n",
    "    Total tiempo de viaje: {sum(minutos)} minutos\n",
    "    Total de combustiblee de la nave: {sum(total_combustible.values())}\n",
    "    \"\"\"\n",
    "    for nombre_tanque, galones in total_combustible.items():\n",
    "        informe += f\"Tanque {nombre_tanque} --> {galones} galones\\n\"\n",
    "    return informe;\n",
    "\n",
    "print(informe_mision(\"La luna\", 10, 30, 50, interno=500000, externo=500000))"
   ]
  }
 ],
 "metadata": {
  "interpreter": {
   "hash": "961a39ac46c2445eb9dead48ee296d68c1b120cbfe9873ef543a6f48a5a42301"
  },
  "kernelspec": {
   "display_name": "Python 3.10.2 64-bit",
   "language": "python",
   "name": "python3"
  },
  "language_info": {
   "codemirror_mode": {
    "name": "ipython",
    "version": 3
   },
   "file_extension": ".py",
   "mimetype": "text/x-python",
   "name": "python",
   "nbconvert_exporter": "python",
   "pygments_lexer": "ipython3",
   "version": "3.7.9"
  },
  "orig_nbformat": 4
 },
 "nbformat": 4,
 "nbformat_minor": 2
}
